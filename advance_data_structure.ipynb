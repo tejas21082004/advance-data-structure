{
  "nbformat": 4,
  "nbformat_minor": 0,
  "metadata": {
    "colab": {
      "provenance": []
    },
    "kernelspec": {
      "name": "python3",
      "display_name": "Python 3"
    },
    "language_info": {
      "name": "python"
    }
  },
  "cells": [
    {
      "cell_type": "code",
      "execution_count": null,
      "metadata": {
        "id": "Nm5u95KqSbEL"
      },
      "outputs": [],
      "source": [
        "+"
      ]
    },
    {
      "cell_type": "markdown",
      "source": [
        "#Q1Write a code to reverse a string"
      ],
      "metadata": {
        "id": "1YLPwZrjShae"
      }
    },
    {
      "cell_type": "code",
      "source": [
        "string =\"hello world\"\n",
        "string[::-1]"
      ],
      "metadata": {
        "colab": {
          "base_uri": "https://localhost:8080/",
          "height": 36
        },
        "id": "357j3zFtTMEP",
        "outputId": "ff7e819b-e6b0-441a-ea45-5c0d1544a1fd"
      },
      "execution_count": null,
      "outputs": [
        {
          "output_type": "execute_result",
          "data": {
            "text/plain": [
              "'dlrow olleh'"
            ],
            "application/vnd.google.colaboratory.intrinsic+json": {
              "type": "string"
            }
          },
          "metadata": {},
          "execution_count": 1
        }
      ]
    },
    {
      "cell_type": "markdown",
      "source": [
        "#Q2Write a code to count the number of vowels in a string"
      ],
      "metadata": {
        "id": "g7kEcGItShdF"
      }
    },
    {
      "cell_type": "code",
      "source": [
        "string =\"hello world\"\n",
        "vowels = \"aeiouAEIOU\"\n",
        "count = sum(string.count(vowel)for vowel in vowels)\n",
        "print(count)"
      ],
      "metadata": {
        "colab": {
          "base_uri": "https://localhost:8080/"
        },
        "id": "T3z5b8UETje5",
        "outputId": "4a4f2a6a-2b63-482d-debb-059711923a50"
      },
      "execution_count": null,
      "outputs": [
        {
          "output_type": "stream",
          "name": "stdout",
          "text": [
            "3\n"
          ]
        }
      ]
    },
    {
      "cell_type": "markdown",
      "source": [
        "#Q3Write a code to check if a given string is a palindrome or not"
      ],
      "metadata": {
        "id": "7uWGZSNOShfe"
      }
    },
    {
      "cell_type": "code",
      "source": [
        "string =\"madam\"\n",
        "if string == string[::-1]:\n",
        "  print(\"palindrome\")\n",
        "else:\n",
        "  print(\"not palindrome\")\n"
      ],
      "metadata": {
        "colab": {
          "base_uri": "https://localhost:8080/"
        },
        "id": "DLrea5kDUNES",
        "outputId": "277d0bcc-1849-4e1c-9175-572f3ec87254"
      },
      "execution_count": null,
      "outputs": [
        {
          "output_type": "stream",
          "name": "stdout",
          "text": [
            "palindrome\n"
          ]
        }
      ]
    },
    {
      "cell_type": "markdown",
      "source": [
        "#Q4Write a code to check if two given strings are anagrams of each other"
      ],
      "metadata": {
        "id": "rt3DSxdEShiP"
      }
    },
    {
      "cell_type": "code",
      "source": [
        "string1 =\"silent\"\n",
        "string2=\"listen\"\n",
        "if sorted(string1)==sorted(string2):\n",
        "  print(\"anargam\")\n",
        "else:\n",
        "  print(\"not anargam\")"
      ],
      "metadata": {
        "colab": {
          "base_uri": "https://localhost:8080/"
        },
        "id": "Vnm-V0NiVYxI",
        "outputId": "fa6e5c52-dfcb-45cf-e758-2a3977e316e8"
      },
      "execution_count": null,
      "outputs": [
        {
          "output_type": "stream",
          "name": "stdout",
          "text": [
            "anargam\n"
          ]
        }
      ]
    },
    {
      "cell_type": "markdown",
      "source": [
        "#Q5Write a code to find all occurrences of a given substring within another string"
      ],
      "metadata": {
        "id": "IDV2U8rAShkq"
      }
    },
    {
      "cell_type": "code",
      "source": [
        "string =\"hello world\"\n",
        "substring=\"l\"\n",
        "count=string.count(substring)\n",
        "print(count)"
      ],
      "metadata": {
        "colab": {
          "base_uri": "https://localhost:8080/"
        },
        "id": "MSiRrWMMWNFK",
        "outputId": "89bbe312-80ec-48ed-d14c-25d5cd90477c"
      },
      "execution_count": null,
      "outputs": [
        {
          "output_type": "stream",
          "name": "stdout",
          "text": [
            "3\n"
          ]
        }
      ]
    },
    {
      "cell_type": "markdown",
      "source": [
        "#Q6Write a code to perform basic string compression using the counts of repeated characters"
      ],
      "metadata": {
        "id": "hjyU0JCHShnC"
      }
    },
    {
      "cell_type": "code",
      "source": [
        "string =\"aabcccaab\"\n",
        "result=\"\"\n",
        "count=1\n",
        "for i in range(1,len(string)):\n",
        "   if string[i]==string[i-1]:\n",
        "     count+=1\n",
        "   else:\n",
        "     result+=string[i-1]+str(count)\n",
        "     count=1\n",
        "result+=string[-1]+str(count)\n",
        "print(result)"
      ],
      "metadata": {
        "colab": {
          "base_uri": "https://localhost:8080/"
        },
        "id": "GSuOKeWwWsqr",
        "outputId": "0d957003-b652-490b-9276-417a5b9ed371"
      },
      "execution_count": null,
      "outputs": [
        {
          "output_type": "stream",
          "name": "stdout",
          "text": [
            "a2b1c3a2b1\n"
          ]
        }
      ]
    },
    {
      "cell_type": "markdown",
      "source": [
        "#Q7Write a code to determine if a string has all unique characters"
      ],
      "metadata": {
        "id": "PpwylXh_ShpZ"
      }
    },
    {
      "cell_type": "code",
      "source": [
        "string  = \"hello\"\n",
        "if len(string)==len(set(string)):\n",
        "  print(\"unique\")\n",
        "else:\n",
        "  print(\"not unique\")"
      ],
      "metadata": {
        "colab": {
          "base_uri": "https://localhost:8080/"
        },
        "id": "RFlR-Lj1X3f-",
        "outputId": "93c85335-4f70-4b97-b100-a8ca0066d709"
      },
      "execution_count": null,
      "outputs": [
        {
          "output_type": "stream",
          "name": "stdout",
          "text": [
            "not unique\n"
          ]
        }
      ]
    },
    {
      "cell_type": "markdown",
      "source": [
        "#Q8Write a code to convert a given string to uppercase or lowercase"
      ],
      "metadata": {
        "id": "XW8d3VJKShsD"
      }
    },
    {
      "cell_type": "code",
      "source": [
        "string =\"apple\"\n",
        "string.upper()\n"
      ],
      "metadata": {
        "colab": {
          "base_uri": "https://localhost:8080/",
          "height": 36
        },
        "id": "2wlwtHs_YVli",
        "outputId": "335137ad-43ca-4473-e42b-ccd063b625ba"
      },
      "execution_count": null,
      "outputs": [
        {
          "output_type": "execute_result",
          "data": {
            "text/plain": [
              "'APPLE'"
            ],
            "application/vnd.google.colaboratory.intrinsic+json": {
              "type": "string"
            }
          },
          "metadata": {},
          "execution_count": 16
        }
      ]
    },
    {
      "cell_type": "code",
      "source": [
        "string =\"apple\"\n",
        "string.lower()\n"
      ],
      "metadata": {
        "colab": {
          "base_uri": "https://localhost:8080/",
          "height": 36
        },
        "id": "nFFANMGSYpIx",
        "outputId": "1354947e-efc1-490f-dd5a-6febb0a72d29"
      },
      "execution_count": null,
      "outputs": [
        {
          "output_type": "execute_result",
          "data": {
            "text/plain": [
              "'apple'"
            ],
            "application/vnd.google.colaboratory.intrinsic+json": {
              "type": "string"
            }
          },
          "metadata": {},
          "execution_count": 17
        }
      ]
    },
    {
      "cell_type": "markdown",
      "source": [
        "#Q9Write a code to count the number of words in a string"
      ],
      "metadata": {
        "id": "YGIeb_HlShux"
      }
    },
    {
      "cell_type": "code",
      "source": [
        "string =\"hello world\"\n",
        "count=len(string.split())\n",
        "print(count)"
      ],
      "metadata": {
        "colab": {
          "base_uri": "https://localhost:8080/"
        },
        "id": "2pJifZDHYuro",
        "outputId": "c468cdb2-8562-46e0-8f31-8cf453abb301"
      },
      "execution_count": null,
      "outputs": [
        {
          "output_type": "stream",
          "name": "stdout",
          "text": [
            "2\n"
          ]
        }
      ]
    },
    {
      "cell_type": "markdown",
      "source": [
        "#Q10Write a code to concatenate two strings without using the + operator"
      ],
      "metadata": {
        "id": "vpsYqDQIShxO"
      }
    },
    {
      "cell_type": "code",
      "source": [
        "string1=\"hello\"\n",
        "string2=\"world\"\n",
        "result=\"\".join([string1,string2])\n",
        "print(result)"
      ],
      "metadata": {
        "colab": {
          "base_uri": "https://localhost:8080/"
        },
        "id": "U1cdn--uZVZ6",
        "outputId": "2619f006-afbf-48e6-ec84-9fa60a9bfe91"
      },
      "execution_count": null,
      "outputs": [
        {
          "output_type": "stream",
          "name": "stdout",
          "text": [
            "helloworld\n"
          ]
        }
      ]
    },
    {
      "cell_type": "markdown",
      "source": [
        "#Q11Write a code to remove all occurrences of a specific element from a list"
      ],
      "metadata": {
        "id": "D2OK5kpyShz-"
      }
    },
    {
      "cell_type": "code",
      "source": [
        "list= [1,2,3,1,2,4,5,1]\n",
        "element=1\n",
        "result=[i for i in list if i!=element]\n",
        "print(result)"
      ],
      "metadata": {
        "colab": {
          "base_uri": "https://localhost:8080/"
        },
        "id": "c656Z89HZ4iX",
        "outputId": "b0513281-2a43-4b10-97c9-cc7d739cb0fe"
      },
      "execution_count": null,
      "outputs": [
        {
          "output_type": "stream",
          "name": "stdout",
          "text": [
            "[2, 3, 2, 4, 5]\n"
          ]
        }
      ]
    },
    {
      "cell_type": "markdown",
      "source": [
        "#Q12Implement a code to find the second largest number in a given list of integers"
      ],
      "metadata": {
        "id": "YeevnhOeSh2h"
      }
    },
    {
      "cell_type": "code",
      "source": [
        "list = [1,2,3,4,5,6,7]\n",
        "list.sort()\n",
        "a=list[-2]\n",
        "print(a)"
      ],
      "metadata": {
        "id": "rPfy9y7pamqK",
        "colab": {
          "base_uri": "https://localhost:8080/"
        },
        "outputId": "51055f56-f140-4a33-f5d0-ee6cd330d58a"
      },
      "execution_count": 1,
      "outputs": [
        {
          "output_type": "stream",
          "name": "stdout",
          "text": [
            "6\n"
          ]
        }
      ]
    },
    {
      "cell_type": "markdown",
      "source": [
        "#Q13Create a code to count the occurrences of each element in a list and return a dictionary with elements as keys and their counts as values"
      ],
      "metadata": {
        "id": "6Ted0SbWSh44"
      }
    },
    {
      "cell_type": "code",
      "source": [
        "list = [1,2,3,1,2,4,5,1]\n",
        "result={}\n",
        "for i in list:\n",
        "  if i in result:\n",
        "    result[i]+=1\n",
        "  else:\n",
        "    result[i]=1\n",
        "print(result)"
      ],
      "metadata": {
        "colab": {
          "base_uri": "https://localhost:8080/"
        },
        "id": "lGNcHt1JZnZv",
        "outputId": "fb87bc15-aae1-4bbb-a368-24db4f44e346"
      },
      "execution_count": 2,
      "outputs": [
        {
          "output_type": "stream",
          "name": "stdout",
          "text": [
            "{1: 3, 2: 2, 3: 1, 4: 1, 5: 1}\n"
          ]
        }
      ]
    },
    {
      "cell_type": "markdown",
      "source": [
        "#Q14Write a code to reverse a list in-place without using any built-in reverse functions"
      ],
      "metadata": {
        "id": "QpVh37ouSh7Z"
      }
    },
    {
      "cell_type": "code",
      "source": [
        "list = [1,3,4,2,5,6]\n",
        "list[::-1]"
      ],
      "metadata": {
        "colab": {
          "base_uri": "https://localhost:8080/"
        },
        "id": "gY4yks_GagUf",
        "outputId": "198ae147-a17f-46d3-f509-93b559cd930b"
      },
      "execution_count": 3,
      "outputs": [
        {
          "output_type": "execute_result",
          "data": {
            "text/plain": [
              "[6, 5, 2, 4, 3, 1]"
            ]
          },
          "metadata": {},
          "execution_count": 3
        }
      ]
    },
    {
      "cell_type": "markdown",
      "source": [
        "#Q15Implement a code to find and remove duplicates from a list while preserving the original order of elements"
      ],
      "metadata": {
        "id": "M_P-HsTfSh-C"
      }
    },
    {
      "cell_type": "code",
      "source": [
        "list = [1,4,2,5,3,7,4,4,4,5,3]\n",
        "unique_list = []\n",
        "for item in list:\n",
        "    if item not in unique_list:\n",
        "        unique_list.append(item)\n",
        "print(unique_list)"
      ],
      "metadata": {
        "colab": {
          "base_uri": "https://localhost:8080/"
        },
        "id": "eD9w9_3PbarV",
        "outputId": "bf458192-ce32-426d-d7bc-99baaf08a41f"
      },
      "execution_count": 4,
      "outputs": [
        {
          "output_type": "stream",
          "name": "stdout",
          "text": [
            "[1, 4, 2, 5, 3, 7]\n"
          ]
        }
      ]
    },
    {
      "cell_type": "markdown",
      "source": [
        "#Q16Create a code to check if a given list is sorted (either in ascending or descending order) or not"
      ],
      "metadata": {
        "id": "dcSQWhnSSiAr"
      }
    },
    {
      "cell_type": "code",
      "source": [
        "list = [1,2,3,4,5,6,7]\n",
        "if list==sorted(list) or list==sorted(list,reverse=True):\n",
        "  print(\"sorted\")\n",
        "else:\n",
        "  print(\"not sorted\")"
      ],
      "metadata": {
        "colab": {
          "base_uri": "https://localhost:8080/"
        },
        "id": "UrNboo-4eeoV",
        "outputId": "1b98d78d-9d93-4874-d270-083bfabcf455"
      },
      "execution_count": 5,
      "outputs": [
        {
          "output_type": "stream",
          "name": "stdout",
          "text": [
            "sorted\n"
          ]
        }
      ]
    },
    {
      "cell_type": "markdown",
      "source": [
        "#Q17Write a code to merge two sorted lists into a single sorted list"
      ],
      "metadata": {
        "id": "nsBHeRc_SiDL"
      }
    },
    {
      "cell_type": "code",
      "source": [
        "list1 = [1,2,3,4,5]\n",
        "list2 = [6,7,8,9,10]\n",
        "add = list1+list2\n",
        "add.sort()\n",
        "print(add)"
      ],
      "metadata": {
        "colab": {
          "base_uri": "https://localhost:8080/"
        },
        "id": "BjBeYvwcfiSL",
        "outputId": "81eef7be-1b70-4679-a23e-b211b63d2863"
      },
      "execution_count": 6,
      "outputs": [
        {
          "output_type": "stream",
          "name": "stdout",
          "text": [
            "[1, 2, 3, 4, 5, 6, 7, 8, 9, 10]\n"
          ]
        }
      ]
    },
    {
      "cell_type": "markdown",
      "source": [
        "#Q18Implement a code to find the intersection of two given lists"
      ],
      "metadata": {
        "id": "G-02Qgd7SiF3"
      }
    },
    {
      "cell_type": "code",
      "source": [
        "list1 = [1,2,3,4,5]\n",
        "list2 = [4,5,6,7,8]\n",
        "intersection = list(set(list1).intersection(list2))\n",
        "print(intersection)"
      ],
      "metadata": {
        "id": "_G0FPCePgAq5"
      },
      "execution_count": null,
      "outputs": []
    },
    {
      "cell_type": "markdown",
      "source": [
        "#Q19Create a code to find the union of two lists without duplicates"
      ],
      "metadata": {
        "id": "xNYaQQekSiId"
      }
    },
    {
      "cell_type": "code",
      "source": [
        "list1 = [1,2,3,4,5]\n",
        "list2 = [4,5,6,7,8]\n",
        "union = (set(list1) | set(list2))\n",
        "print(union)"
      ],
      "metadata": {
        "colab": {
          "base_uri": "https://localhost:8080/"
        },
        "id": "PCm_tOdqg1NP",
        "outputId": "bc28a2ca-e75a-496b-d4a9-a1cbeb207a65"
      },
      "execution_count": 12,
      "outputs": [
        {
          "output_type": "stream",
          "name": "stdout",
          "text": [
            "{1, 2, 3, 4, 5, 6, 7, 8}\n"
          ]
        }
      ]
    },
    {
      "cell_type": "markdown",
      "source": [
        "#Q20 Write a code to shuffle a given list randomly without using any built-in shuffle functions"
      ],
      "metadata": {
        "id": "C1JZS_jASiLF"
      }
    },
    {
      "cell_type": "code",
      "source": [
        "list = [1,2,3,4,5,6,7]\n",
        "import random\n",
        "random.shuffle(list)\n",
        "print(list)"
      ],
      "metadata": {
        "colab": {
          "base_uri": "https://localhost:8080/"
        },
        "id": "cheqH0r6ihlS",
        "outputId": "5a41d925-e01b-4164-c007-e8a7f7f927c3"
      },
      "execution_count": 13,
      "outputs": [
        {
          "output_type": "stream",
          "name": "stdout",
          "text": [
            "[5, 3, 7, 4, 1, 2, 6]\n"
          ]
        }
      ]
    },
    {
      "cell_type": "markdown",
      "source": [
        "#Q21 Write a code that takes two tuples as input and returns a new tuple containing elements that are common to both input tuples"
      ],
      "metadata": {
        "id": "EZpNgDXkSiN4"
      }
    },
    {
      "cell_type": "code",
      "source": [
        "a=(1,2,3,4,5)\n",
        "b=(4,5,6,7,8)\n",
        "common=tuple(set(a).intersection(b))\n",
        "print(common)"
      ],
      "metadata": {
        "colab": {
          "base_uri": "https://localhost:8080/"
        },
        "id": "3aMMVOPgjWCX",
        "outputId": "4918dc3f-5b8a-4935-8f6b-48c604e9c1bc"
      },
      "execution_count": 14,
      "outputs": [
        {
          "output_type": "stream",
          "name": "stdout",
          "text": [
            "(4, 5)\n"
          ]
        }
      ]
    },
    {
      "cell_type": "markdown",
      "source": [
        "#Q22 Create a code that prompts the user to enter two sets of integers separated by commas. Then, print the intersection of these two sets"
      ],
      "metadata": {
        "id": "Nr3bizLzSiQl"
      }
    },
    {
      "cell_type": "code",
      "source": [
        "a = input(\"Enter first set of integers separated by commas: \")\n",
        "b = input(\"Enter second set of integers separated by commas: \")\n",
        "a = set(map(int,  a.split(',')))\n",
        "b = set(map(int,  b.split(',')))\n",
        "intersection = a.intersection(b)\n",
        "print(\"The intersection of the two sets is:\", intersection)"
      ],
      "metadata": {
        "colab": {
          "base_uri": "https://localhost:8080/"
        },
        "id": "wMHvH6j9j_DM",
        "outputId": "7e022a73-aa05-4853-8f14-1b781d995839"
      },
      "execution_count": 16,
      "outputs": [
        {
          "output_type": "stream",
          "name": "stdout",
          "text": [
            "Enter first set of integers separated by commas: 1,2,3,4,5,6\n",
            "Enter second set of integers separated by commas: 2,3,4,6,9,8\n",
            "The intersection of the two sets is: {2, 3, 4, 6}\n"
          ]
        }
      ]
    },
    {
      "cell_type": "markdown",
      "source": [
        "#Q23Write a code to concatenate two tuples. The function should take two tuples as input and return a new tuple containing elements from both input tuples."
      ],
      "metadata": {
        "id": "TIXR60TpSiTR"
      }
    },
    {
      "cell_type": "code",
      "source": [
        "a = (1, 2, 3)\n",
        "b = (4, 5, 6)\n",
        "c = a + b\n",
        "print(c)"
      ],
      "metadata": {
        "colab": {
          "base_uri": "https://localhost:8080/"
        },
        "id": "UUz71UfTlHrN",
        "outputId": "c5917c11-2f38-466d-eae1-e7b537bb1959"
      },
      "execution_count": 17,
      "outputs": [
        {
          "output_type": "stream",
          "name": "stdout",
          "text": [
            "(1, 2, 3, 4, 5, 6)\n"
          ]
        }
      ]
    },
    {
      "cell_type": "markdown",
      "source": [
        "#Q24Develop a code that prompts the user to input two sets of strings. Then, print the elements that are present in the first set but not in the second set"
      ],
      "metadata": {
        "id": "_yEi4PSQSiWC"
      }
    },
    {
      "cell_type": "code",
      "source": [
        "set1 = set(input(\"Enter first set of strings separated by commas: \").split(','))\n",
        "set2 = set(input(\"Enter second set of strings separated by commas: \").split(','))\n",
        "set3 = set1.difference(set2)\n",
        "print(\"The elements that are present in the first set but not in the second set are:\", set3)"
      ],
      "metadata": {
        "colab": {
          "base_uri": "https://localhost:8080/"
        },
        "id": "EmRXMPLYlWfI",
        "outputId": "54a522f8-04bc-4105-988a-6838d8fa5656"
      },
      "execution_count": 18,
      "outputs": [
        {
          "output_type": "stream",
          "name": "stdout",
          "text": [
            "Enter first set of strings separated by commas: \"a\",\"b\",\"C\"\n",
            "Enter second set of strings separated by commas: \"a\",\"D\",\"v\"\n",
            "The elements that are present in the first set but not in the second set are: {'\"b\"', '\"C\"'}\n"
          ]
        }
      ]
    },
    {
      "cell_type": "markdown",
      "source": [
        "#Q25 Create a code that takes a tuple and two integers as input. The function should return a new tuple containing elements from the original tuple within the specified range of indices"
      ],
      "metadata": {
        "id": "i8G2kF4WSiYp"
      }
    },
    {
      "cell_type": "code",
      "source": [
        "a = (1, 2, 3, 4, 5, 6, 7, 8, 9, 10)\n",
        "start = int(input(\"Enter start index: \"))\n",
        "end = int(input(\"Enter end index: \"))\n",
        "b = a[start:end+1]\n",
        "print(b)"
      ],
      "metadata": {
        "colab": {
          "base_uri": "https://localhost:8080/"
        },
        "id": "Q1cXRfttmKvI",
        "outputId": "af5a620b-f14b-499b-a55e-4660a1d2f79f"
      },
      "execution_count": 19,
      "outputs": [
        {
          "output_type": "stream",
          "name": "stdout",
          "text": [
            "Enter start index: 2\n",
            "Enter end index: 8\n",
            "(3, 4, 5, 6, 7, 8, 9)\n"
          ]
        }
      ]
    },
    {
      "cell_type": "markdown",
      "source": [
        "#Q26Write a code that prompts the user to input two sets of characters. Then, print the union of these two sets"
      ],
      "metadata": {
        "id": "A_PPKjwdSibS"
      }
    },
    {
      "cell_type": "code",
      "source": [
        "set1 = set(input(\"Enter first set of characters separated by commas: \").split(','))\n",
        "set2 = set(input(\"Enter second set of characters separated by commas: \").split(','))\n",
        "set3 = set1.union(set2)\n",
        "print(\"The union of the two sets is:\", set3)"
      ],
      "metadata": {
        "colab": {
          "base_uri": "https://localhost:8080/"
        },
        "id": "uhXDZrx-m99c",
        "outputId": "d381e390-6509-4f45-fcec-292d928f606f"
      },
      "execution_count": 20,
      "outputs": [
        {
          "output_type": "stream",
          "name": "stdout",
          "text": [
            "Enter first set of characters separated by commas: 2,3,4\n",
            "Enter second set of characters separated by commas: 5,3,1\n",
            "The union of the two sets is: {'2', '5', '4', '1', '3'}\n"
          ]
        }
      ]
    },
    {
      "cell_type": "markdown",
      "source": [
        "#Q27 Develop a code that takes a tuple of integers as input. The function should return the maximum and minimum values from the tuple using tuple unpacking"
      ],
      "metadata": {
        "id": "WdBJShs2SieK"
      }
    },
    {
      "cell_type": "code",
      "source": [
        "tuple = (1, 2, 3, 4, 5, 6, 7, 8, 9, 10)\n",
        "max_value = max(tuple)\n",
        "min_value = min(tuple)\n",
        "print(\"The maximum value in the tuple is:\", max_value)\n",
        "print(\"The minimum value in the tuple is:\", min_value)\n"
      ],
      "metadata": {
        "colab": {
          "base_uri": "https://localhost:8080/"
        },
        "id": "z9PhZ9o1nlEz",
        "outputId": "ff2e3b37-d6bc-4ab4-c342-1046a97d32a2"
      },
      "execution_count": 22,
      "outputs": [
        {
          "output_type": "stream",
          "name": "stdout",
          "text": [
            "The maximum value in the tuple is: 10\n",
            "The minimum value in the tuple is: 1\n"
          ]
        }
      ]
    },
    {
      "cell_type": "markdown",
      "source": [
        "#Q28 Create a code that defines two sets of integers. Then, print the union, intersection, and difference of these two sets"
      ],
      "metadata": {
        "id": "u9FU3N3qSigz"
      }
    },
    {
      "cell_type": "code",
      "source": [
        "set1 = {1, 2, 3, 4, 5}\n",
        "set2 = {4, 5, 6, 7, 8}\n",
        "union = set1.union(set2)\n",
        "intersection = set1.intersection(set2)\n",
        "difference = set1.difference(set2)\n",
        "print(\"The union of the two sets is:\", union)\n",
        "print(\"The intersection of the two sets is:\", intersection)\n",
        "print(\"The difference of the two sets is:\", difference)"
      ],
      "metadata": {
        "colab": {
          "base_uri": "https://localhost:8080/"
        },
        "id": "rXvWDOpfn5V3",
        "outputId": "88d788bb-b4a4-4116-b152-53223f909a25"
      },
      "execution_count": 23,
      "outputs": [
        {
          "output_type": "stream",
          "name": "stdout",
          "text": [
            "The union of the two sets is: {1, 2, 3, 4, 5, 6, 7, 8}\n",
            "The intersection of the two sets is: {4, 5}\n",
            "The difference of the two sets is: {1, 2, 3}\n"
          ]
        }
      ]
    },
    {
      "cell_type": "markdown",
      "source": [
        "#Q29 Write a code that takes a tuple and an element as input. The function should return the count of occurrences of the given element in the tuple"
      ],
      "metadata": {
        "id": "FdNADStLSijY"
      }
    },
    {
      "cell_type": "code",
      "source": [
        "tuple = (1, 2, 3, 4, 5, 6, 7, 8, 9, 10)\n",
        "element = int(input(\"Enter an element: \"))\n",
        "count = tuple.count(element)"
      ],
      "metadata": {
        "colab": {
          "base_uri": "https://localhost:8080/"
        },
        "id": "eEQnON7loe6t",
        "outputId": "1bbde917-f727-4e85-ede2-ab94c4e2463c"
      },
      "execution_count": 24,
      "outputs": [
        {
          "name": "stdout",
          "output_type": "stream",
          "text": [
            "Enter an element: 4\n"
          ]
        }
      ]
    },
    {
      "cell_type": "markdown",
      "source": [
        "#Q30 Develop a code that prompts the user to input two sets of strings. Then, print the symmetric difference of these two sets"
      ],
      "metadata": {
        "id": "a6Ad95vpSimZ"
      }
    },
    {
      "cell_type": "code",
      "source": [
        "set1 = set(input(\"Enter first set of strings separated by commas: \").split(','))\n",
        "set2 = set(input(\"Enter second set of strings separated by commas: \").split(','))\n",
        "set3 = set1.symmetric_difference(set2)\n",
        "print(\"The symmetric difference of the two sets is:\", set3)"
      ],
      "metadata": {
        "colab": {
          "base_uri": "https://localhost:8080/"
        },
        "id": "jxJ7goi7o7Zt",
        "outputId": "06451deb-4888-42c4-ed40-0c01b6887db7"
      },
      "execution_count": 25,
      "outputs": [
        {
          "output_type": "stream",
          "name": "stdout",
          "text": [
            "Enter first set of strings separated by commas: 2,3,4,5\n",
            "Enter second set of strings separated by commas: 5,4,6,7\n",
            "The symmetric difference of the two sets is: {'6', '2', '7', '3'}\n"
          ]
        }
      ]
    },
    {
      "cell_type": "markdown",
      "source": [
        "#Q31 Write a code that takes a list of words as input and returns a dictionary where the keys are unique words and the values are the frequencies of those words in the input list"
      ],
      "metadata": {
        "id": "3KeIk0BmSipT"
      }
    },
    {
      "cell_type": "code",
      "source": [
        "list = ['apple', 'banana', 'apple', 'orange', 'banana', 'orange', 'apple']\n",
        "result = {}\n",
        "for word in list:\n",
        "    if word in result:\n",
        "        result[word] += 1\n",
        "    else:\n",
        "        result[word] = 1\n",
        "print(result)"
      ],
      "metadata": {
        "colab": {
          "base_uri": "https://localhost:8080/"
        },
        "id": "adOJ8IkEpQnk",
        "outputId": "78aaaa2d-e364-4d4a-c8e9-9e0d5ff33aeb"
      },
      "execution_count": 26,
      "outputs": [
        {
          "output_type": "stream",
          "name": "stdout",
          "text": [
            "{'apple': 3, 'banana': 2, 'orange': 2}\n"
          ]
        }
      ]
    },
    {
      "cell_type": "markdown",
      "source": [
        "#Q32 Write a code that takes two dictionaries as input and merges them into a single dictionary. If there are common keys, the values should be added together"
      ],
      "metadata": {
        "id": "mlgu1C7QSirv"
      }
    },
    {
      "cell_type": "code",
      "source": [
        "dict1 = {'a': 1, 'b': 2, 'c': 3}\n",
        "dict2 = {'b': 4, 'c': 5, 'd': 6}\n",
        "for key, value in dict2.items():\n",
        "    if key in dict1:\n",
        "        dict1[key] += value\n",
        "    else:\n",
        "        dict1[key] = value\n",
        "print(dict1)"
      ],
      "metadata": {
        "colab": {
          "base_uri": "https://localhost:8080/"
        },
        "id": "HER4mcyipkjL",
        "outputId": "3d033d74-4ea1-4caf-9336-013843631dfc"
      },
      "execution_count": 27,
      "outputs": [
        {
          "output_type": "stream",
          "name": "stdout",
          "text": [
            "{'a': 1, 'b': 6, 'c': 8, 'd': 6}\n"
          ]
        }
      ]
    },
    {
      "cell_type": "markdown",
      "source": [
        "#Q33 Write a code to access a value in a nested dictionary. The function should take the dictionary and a list of keys as input, and return the corresponding value. If any of the keys do not exist in the dictionary, the function should return None"
      ],
      "metadata": {
        "id": "vIhXutNtSiuq"
      }
    },
    {
      "cell_type": "code",
      "source": [
        "a = {'a': {'b': {'c': 'd'}}}\n",
        "keys = ['a', 'b', 'c']\n",
        "value = a\n",
        "for key in keys:\n",
        "    if key in value:\n",
        "        value = value[key]\n",
        "    else:\n",
        "        value = None\n",
        "        break\n",
        "print(value)"
      ],
      "metadata": {
        "colab": {
          "base_uri": "https://localhost:8080/"
        },
        "id": "WrzEDWu-p2Xs",
        "outputId": "24437d17-1c43-41ec-d3d0-816237ca4177"
      },
      "execution_count": 28,
      "outputs": [
        {
          "output_type": "stream",
          "name": "stdout",
          "text": [
            "d\n"
          ]
        }
      ]
    },
    {
      "cell_type": "markdown",
      "source": [
        "#Q34 Write a code to access a value in a nested dictionary. The function should take the dictionary and a list of keys as input, and return the corresponding value. If any of the keys do not exist in the dictionary, the function should return None"
      ],
      "metadata": {
        "id": "o9l9Y-a6Sixa"
      }
    },
    {
      "cell_type": "code",
      "source": [
        "a = {'a': {'b': {'c': 'd'}}}\n",
        "keys = ['a', 'b', 'c']\n",
        "value = a\n",
        "for key in keys:\n",
        "    if key in value:\n",
        "        value = value[key]\n",
        "    else:\n",
        "        value = None\n",
        "        break\n",
        "print(value)"
      ],
      "metadata": {
        "colab": {
          "base_uri": "https://localhost:8080/"
        },
        "id": "h1v2eE56qEX7",
        "outputId": "7d235a15-9cb6-4dba-aad7-b0d06eecd688"
      },
      "execution_count": 33,
      "outputs": [
        {
          "output_type": "stream",
          "name": "stdout",
          "text": [
            "d\n"
          ]
        }
      ]
    },
    {
      "cell_type": "markdown",
      "source": [
        "#Q35 Write a code to access a value in a nested dictionary. The function should take the dictionary and a list of keys as input, and return the corresponding value. If any of the keys do not exist in the dictionary, the function should return None"
      ],
      "metadata": {
        "id": "qvRWm-f8Si0v"
      }
    },
    {
      "cell_type": "code",
      "source": [
        "a = {'a': {'b': {'c': 'd'}}}\n",
        "keys = ['a', 'b', 'c']\n",
        "value = a\n",
        "for key in keys:\n",
        "    if key in value:\n",
        "        value = value[key]\n",
        "    else:\n",
        "        value = None\n",
        "        break\n",
        "        print(value)\n",
        ""
      ],
      "metadata": {
        "id": "eGmCUJwiqdui"
      },
      "execution_count": 35,
      "outputs": []
    },
    {
      "cell_type": "markdown",
      "source": [],
      "metadata": {
        "id": "5FyWYt1USi3s"
      }
    },
    {
      "cell_type": "markdown",
      "source": [],
      "metadata": {
        "id": "OiL0lkY_Si7N"
      }
    }
  ]
}